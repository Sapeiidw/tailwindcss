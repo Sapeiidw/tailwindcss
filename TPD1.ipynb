{
  "nbformat": 4,
  "nbformat_minor": 0,
  "metadata": {
    "colab": {
      "name": "TPD1.ipynb",
      "provenance": [],
      "authorship_tag": "ABX9TyOa8tdLHXGa6u5CCad085aw",
      "include_colab_link": true
    },
    "kernelspec": {
      "name": "python3",
      "display_name": "Python 3"
    }
  },
  "cells": [
    {
      "cell_type": "markdown",
      "metadata": {
        "id": "view-in-github",
        "colab_type": "text"
      },
      "source": [
        "<a href=\"https://colab.research.google.com/github/Sapeiidw/tailwindcss/blob/master/TPD1.ipynb\" target=\"_parent\"><img src=\"https://colab.research.google.com/assets/colab-badge.svg\" alt=\"Open In Colab\"/></a>"
      ]
    },
    {
      "cell_type": "markdown",
      "metadata": {
        "id": "Bw_Tf-1DHiwy"
      },
      "source": [
        "Program menghitung luas dan keliling persegi\r\n"
      ]
    },
    {
      "cell_type": "code",
      "metadata": {
        "colab": {
          "base_uri": "https://localhost:8080/"
        },
        "id": "NYkDTF5zHhpT",
        "outputId": "26adfe8c-711f-459a-d3fd-cd18e04b3f6c"
      },
      "source": [
        "def luas_persegi(s):\r\n",
        "  print(f\"Jadi luas persegi = {s*s} cm\")\r\n",
        "def keliling_persegi(s):\r\n",
        "  print(f\"Jadi keliling persegi = {s*4} cm\")\r\n",
        "sisi = float(input(\"Masukkan panjang sisi : \"))\r\n",
        "luas_persegi(sisi)\r\n",
        "keliling_persegi(sisi)"
      ],
      "execution_count": 22,
      "outputs": [
        {
          "output_type": "stream",
          "text": [
            "Masukkan panjang sisi : 5\n",
            "Jadi luas persegi = 25.0 cm\n",
            "Jadi keliling persegi = 20.0 cm\n"
          ],
          "name": "stdout"
        }
      ]
    },
    {
      "cell_type": "markdown",
      "metadata": {
        "id": "mjRnuwqlKHrq"
      },
      "source": [
        "program menghitung luas dan keliling segitiga"
      ]
    },
    {
      "cell_type": "code",
      "metadata": {
        "colab": {
          "base_uri": "https://localhost:8080/"
        },
        "id": "1zJGPpBDKqaN",
        "outputId": "52ddecc8-d7b5-433d-ca07-45a802829373"
      },
      "source": [
        "def luas_segitiga (s,t):\r\n",
        "  print(f\"Jadi luas segitiga = {s*t/2} cm\")\r\n",
        "s = float(input(\"masukkan alas : \"))\r\n",
        "t = float(input(\"masukkan tinggi : \"))\r\n",
        "luas_segitiga(s,t)\r\n"
      ],
      "execution_count": 23,
      "outputs": [
        {
          "output_type": "stream",
          "text": [
            "masukkan alas : 5\n",
            "masukkan tinggi : 6\n",
            "Jadi luas segitiga = 15.0 cm\n"
          ],
          "name": "stdout"
        }
      ]
    },
    {
      "cell_type": "code",
      "metadata": {
        "colab": {
          "base_uri": "https://localhost:8080/"
        },
        "id": "WZ_rLNJdRPPP",
        "outputId": "e35a6061-c912-4006-99c2-81e191374139"
      },
      "source": [
        "def keliling_segitiga (a,b,c):\r\n",
        "  print(f\"jadi keliling segitiga = {a+b+c} cm\")\r\n",
        "sisi_A = float(input(\"masukkan panjang sisi A : \"))\r\n",
        "sisi_B = float(input(\"masukkan panjang sisi B : \"))\r\n",
        "sisi_C = float(input(\"masukkan panjang sisi C : \"))\r\n",
        "keliling_segitiga(sisi_A,sisi_B,sisi_C)"
      ],
      "execution_count": 2,
      "outputs": [
        {
          "output_type": "stream",
          "text": [
            "masukkan panjang sisi A : 5\n",
            "masukkan panjang sisi B : 6\n",
            "masukkan panjang sisi C : 2\n",
            "jadi keliling segitiga = 13.0 cm\n"
          ],
          "name": "stdout"
        }
      ]
    },
    {
      "cell_type": "markdown",
      "metadata": {
        "id": "lJnwZMOxROGW"
      },
      "source": [
        "program menghitung luas dan keliling lingkaran "
      ]
    },
    {
      "cell_type": "code",
      "metadata": {
        "colab": {
          "base_uri": "https://localhost:8080/"
        },
        "id": "o46Z8lKQTs6b",
        "outputId": "b682598d-37ab-4c54-acfd-81e140d0d354"
      },
      "source": [
        "def luas_lingkaran (r):\r\n",
        "  print(f\"jadi luas lingkaran = {22/7*r*r} cm\")\r\n",
        "def keliling_lingkaran (r):\r\n",
        "  print(f\"jadi keliling lingkaran = {2*22/7*r*r} cm\") \r\n",
        "r = float(input(\"masukkan nilai jari-jari : \"))\r\n",
        "luas_lingkaran(r)\r\n",
        "keliling_lingkaran(r)\r\n"
      ],
      "execution_count": 32,
      "outputs": [
        {
          "output_type": "stream",
          "text": [
            "masukkan nilai jari-jari : 7\n",
            "jadi luas lingkaran = 154.0 cm\n",
            "jadi keliling lingkaran = 308.0 cm\n"
          ],
          "name": "stdout"
        }
      ]
    }
  ]
}